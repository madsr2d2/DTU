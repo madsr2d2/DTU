{
 "cells": [
  {
   "cell_type": "code",
   "execution_count": null,
   "metadata": {},
   "outputs": [],
   "source": [
    "from skimage import io\n",
    "from skimage.util import img_as_ubyte\n",
    "import matplotlib.pyplot as plt\n",
    "import numpy as np\n",
    "import glob\n",
    "from sklearn.decomposition import PCA\n",
    "from skimage.transform import SimilarityTransform\n",
    "from skimage.transform import warp\n",
    "import os\n",
    "import pathlib\n"
   ]
  }
 ],
 "metadata": {
  "kernelspec": {
   "display_name": "cource02502",
   "language": "python",
   "name": "python3"
  },
  "language_info": {
   "name": "python",
   "version": "3.9.19"
  }
 },
 "nbformat": 4,
 "nbformat_minor": 2
}
